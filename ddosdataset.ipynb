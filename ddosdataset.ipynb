{
 "cells": [
  {
   "cell_type": "code",
   "execution_count": 1,
   "metadata": {
    "colab": {
     "base_uri": "https://localhost:8080/"
    },
    "id": "wiBR6qlIo6e_",
    "outputId": "504dc286-1c82-4885-95c3-ece0cbf9e753"
   },
   "outputs": [
    {
     "name": "stderr",
     "output_type": "stream",
     "text": [
      "/home/vanya/.local/lib/python3.10/site-packages/tqdm/auto.py:21: TqdmWarning: IProgress not found. Please update jupyter and ipywidgets. See https://ipywidgets.readthedocs.io/en/stable/user_install.html\n",
      "  from .autonotebook import tqdm as notebook_tqdm\n"
     ]
    },
    {
     "name": "stdout",
     "output_type": "stream",
     "text": [
      "Downloading from https://www.kaggle.com/api/v1/datasets/download/devendra416/ddos-datasets?dataset_version_number=1...\n"
     ]
    },
    {
     "name": "stderr",
     "output_type": "stream",
     "text": [
      "100%|█████████████████████████████████████████████████████████████████████████████████████████████████████████████████████████████████████████████| 2.68G/2.68G [08:45<00:00, 5.48MB/s]"
     ]
    },
    {
     "name": "stdout",
     "output_type": "stream",
     "text": [
      "Extracting files...\n"
     ]
    },
    {
     "name": "stderr",
     "output_type": "stream",
     "text": [
      "\n"
     ]
    },
    {
     "name": "stdout",
     "output_type": "stream",
     "text": [
      "Path to dataset files: /home/vanya/.cache/kagglehub/datasets/devendra416/ddos-datasets/versions/1\n"
     ]
    }
   ],
   "source": [
    "import kagglehub\n",
    "\n",
    "# Download latest version\n",
    "path = kagglehub.dataset_download(\"devendra416/ddos-datasets\")\n",
    "\n",
    "print(\"Path to dataset files:\", path)"
   ]
  },
  {
   "cell_type": "code",
   "execution_count": 1,
   "metadata": {
    "id": "Nb0SCKNCruCK"
   },
   "outputs": [],
   "source": [
    "import numpy as np\n",
    "import pandas as pd\n",
    "import os\n",
    "path = \"/home/vanya/bigdata_dataset/ddos_balanced/final_dataset.csv\"\n",
    "\n",
    "total_num_of_rows = sum(1 for _ in open(path))\n",
    "rows_to_read = int(total_num_of_rows * 0.05)\n",
    "first_part = pd.read_csv(path, nrows=rows_to_read)\n",
    "rows_to_skip = int(total_num_of_rows * 0.95)\n",
    "second_part = pd.read_csv(path, skiprows=range(1, rows_to_skip + 1))\n",
    "df = pd.concat([first_part, second_part], ignore_index=True)\n"
   ]
  },
  {
   "cell_type": "code",
   "execution_count": 2,
   "metadata": {
    "colab": {
     "base_uri": "https://localhost:8080/",
     "height": 843
    },
    "id": "HydBu2qGpoO3",
    "outputId": "d333e044-6850-449f-b057-9a4735d4aaa8"
   },
   "outputs": [
    {
     "name": "stdout",
     "output_type": "stream",
     "text": [
      "<class 'pandas.core.frame.DataFrame'>\n",
      "RangeIndex: 1279462 entries, 0 to 1279461\n",
      "Data columns (total 85 columns):\n",
      " #   Column             Non-Null Count    Dtype  \n",
      "---  ------             --------------    -----  \n",
      " 0   Unnamed: 0         1279462 non-null  int64  \n",
      " 1   Flow ID            1279462 non-null  object \n",
      " 2   Src IP             1279462 non-null  object \n",
      " 3   Src Port           1279462 non-null  int64  \n",
      " 4   Dst IP             1279462 non-null  object \n",
      " 5   Dst Port           1279462 non-null  int64  \n",
      " 6   Protocol           1279462 non-null  int64  \n",
      " 7   Timestamp          1279462 non-null  object \n",
      " 8   Flow Duration      1279462 non-null  int64  \n",
      " 9   Tot Fwd Pkts       1279462 non-null  int64  \n",
      " 10  Tot Bwd Pkts       1279462 non-null  int64  \n",
      " 11  TotLen Fwd Pkts    1279462 non-null  float64\n",
      " 12  TotLen Bwd Pkts    1279462 non-null  float64\n",
      " 13  Fwd Pkt Len Max    1279462 non-null  float64\n",
      " 14  Fwd Pkt Len Min    1279462 non-null  float64\n",
      " 15  Fwd Pkt Len Mean   1279462 non-null  float64\n",
      " 16  Fwd Pkt Len Std    1279462 non-null  float64\n",
      " 17  Bwd Pkt Len Max    1279462 non-null  float64\n",
      " 18  Bwd Pkt Len Min    1279462 non-null  float64\n",
      " 19  Bwd Pkt Len Mean   1279462 non-null  float64\n",
      " 20  Bwd Pkt Len Std    1279462 non-null  float64\n",
      " 21  Flow Byts/s        1276460 non-null  float64\n",
      " 22  Flow Pkts/s        1279462 non-null  float64\n",
      " 23  Flow IAT Mean      1279462 non-null  float64\n",
      " 24  Flow IAT Std       1279462 non-null  float64\n",
      " 25  Flow IAT Max       1279462 non-null  float64\n",
      " 26  Flow IAT Min       1279462 non-null  float64\n",
      " 27  Fwd IAT Tot        1279462 non-null  float64\n",
      " 28  Fwd IAT Mean       1279462 non-null  float64\n",
      " 29  Fwd IAT Std        1279462 non-null  float64\n",
      " 30  Fwd IAT Max        1279462 non-null  float64\n",
      " 31  Fwd IAT Min        1279462 non-null  float64\n",
      " 32  Bwd IAT Tot        1279462 non-null  float64\n",
      " 33  Bwd IAT Mean       1279462 non-null  float64\n",
      " 34  Bwd IAT Std        1279462 non-null  float64\n",
      " 35  Bwd IAT Max        1279462 non-null  float64\n",
      " 36  Bwd IAT Min        1279462 non-null  float64\n",
      " 37  Fwd PSH Flags      1279462 non-null  int64  \n",
      " 38  Bwd PSH Flags      1279462 non-null  int64  \n",
      " 39  Fwd URG Flags      1279462 non-null  int64  \n",
      " 40  Bwd URG Flags      1279462 non-null  int64  \n",
      " 41  Fwd Header Len     1279462 non-null  int64  \n",
      " 42  Bwd Header Len     1279462 non-null  int64  \n",
      " 43  Fwd Pkts/s         1279462 non-null  float64\n",
      " 44  Bwd Pkts/s         1279462 non-null  float64\n",
      " 45  Pkt Len Min        1279462 non-null  float64\n",
      " 46  Pkt Len Max        1279462 non-null  float64\n",
      " 47  Pkt Len Mean       1279462 non-null  float64\n",
      " 48  Pkt Len Std        1279462 non-null  float64\n",
      " 49  Pkt Len Var        1279462 non-null  float64\n",
      " 50  FIN Flag Cnt       1279462 non-null  int64  \n",
      " 51  SYN Flag Cnt       1279462 non-null  int64  \n",
      " 52  RST Flag Cnt       1279462 non-null  int64  \n",
      " 53  PSH Flag Cnt       1279462 non-null  int64  \n",
      " 54  ACK Flag Cnt       1279462 non-null  int64  \n",
      " 55  URG Flag Cnt       1279462 non-null  int64  \n",
      " 56  CWE Flag Count     1279462 non-null  int64  \n",
      " 57  ECE Flag Cnt       1279462 non-null  int64  \n",
      " 58  Down/Up Ratio      1279462 non-null  float64\n",
      " 59  Pkt Size Avg       1279462 non-null  float64\n",
      " 60  Fwd Seg Size Avg   1279462 non-null  float64\n",
      " 61  Bwd Seg Size Avg   1279462 non-null  float64\n",
      " 62  Fwd Byts/b Avg     1279462 non-null  int64  \n",
      " 63  Fwd Pkts/b Avg     1279462 non-null  int64  \n",
      " 64  Fwd Blk Rate Avg   1279462 non-null  int64  \n",
      " 65  Bwd Byts/b Avg     1279462 non-null  int64  \n",
      " 66  Bwd Pkts/b Avg     1279462 non-null  int64  \n",
      " 67  Bwd Blk Rate Avg   1279462 non-null  int64  \n",
      " 68  Subflow Fwd Pkts   1279462 non-null  int64  \n",
      " 69  Subflow Fwd Byts   1279462 non-null  int64  \n",
      " 70  Subflow Bwd Pkts   1279462 non-null  int64  \n",
      " 71  Subflow Bwd Byts   1279462 non-null  int64  \n",
      " 72  Init Fwd Win Byts  1279462 non-null  int64  \n",
      " 73  Init Bwd Win Byts  1279462 non-null  int64  \n",
      " 74  Fwd Act Data Pkts  1279462 non-null  int64  \n",
      " 75  Fwd Seg Size Min   1279462 non-null  int64  \n",
      " 76  Active Mean        1279462 non-null  float64\n",
      " 77  Active Std         1279462 non-null  float64\n",
      " 78  Active Max         1279462 non-null  float64\n",
      " 79  Active Min         1279462 non-null  float64\n",
      " 80  Idle Mean          1279462 non-null  float64\n",
      " 81  Idle Std           1279462 non-null  float64\n",
      " 82  Idle Max           1279462 non-null  float64\n",
      " 83  Idle Min           1279462 non-null  float64\n",
      " 84  Label              1279462 non-null  object \n",
      "dtypes: float64(45), int64(35), object(5)\n",
      "memory usage: 829.7+ MB\n"
     ]
    }
   ],
   "source": [
    "df.info()"
   ]
  },
  {
   "cell_type": "code",
   "execution_count": 3,
   "metadata": {},
   "outputs": [],
   "source": [
    "df = df.astype({'Src IP':'string','Dst IP':'string','Label':'string'}) "
   ]
  },
  {
   "cell_type": "code",
   "execution_count": 4,
   "metadata": {
    "id": "U6bWmKOFv8v5"
   },
   "outputs": [],
   "source": [
    "import seaborn as sn\n",
    "import matplotlib.pyplot as plt"
   ]
  },
  {
   "cell_type": "code",
   "execution_count": 5,
   "metadata": {
    "colab": {
     "base_uri": "https://localhost:8080/",
     "height": 675
    },
    "id": "aJ4CNIPe2bsU",
    "outputId": "6fa7f3ba-89a2-4754-8b8b-7048b09b1761"
   },
   "outputs": [
    {
     "data": {
      "image/png": "[encoded data removed]",
      "text/plain": [
       "<Figure size 1300x800 with 1 Axes>"
      ]
     },
     "metadata": {},
     "output_type": "display_data"
    }
   ],
   "source": [
    "Label = ['DDoS','Benign']\n",
    "num_of_ddos_classes = df['Label'].value_counts()['ddos']\n",
    "num_of_benign_classes = df['Label'].value_counts()['Benign']\n",
    "plt.figure(figsize = (13,8))\n",
    "colors = sn.color_palette(\"Set2\")\n",
    "plt.pie([num_of_ddos_classes, num_of_benign_classes], labels=Label, autopct='%1.1f%%',shadow=True, startangle=90,colors=colors)\n",
    "plt.legend(['DDoS', 'Benign'])\n",
    "plt.title('The percentage of Benign and DDoS Requests in dataset')\n",
    "plt.show()"
   ]
  },
  {
   "cell_type": "code",
   "execution_count": 6,
   "metadata": {},
   "outputs": [],
   "source": [
    "for i in df['Bwd Pkts/b Avg']:\n",
    "    if i != 0:\n",
    "        print(\"Fov\")"
   ]
  },
  {
   "cell_type": "markdown",
   "metadata": {
    "id": "JcW44S-K3wlo"
   },
   "source": [
    "# Переведем object в тип string и закодируем ip"
   ]
  },
  {
   "cell_type": "code",
   "execution_count": 7,
   "metadata": {},
   "outputs": [],
   "source": [
    "import ipaddress                                                                   # converting the IP address form Strings to int\n",
    "\n",
    "df = df.astype({'Src IP':'string','Dst IP':'string','Label':'string'}) \n",
    "\n",
    "df['Src IP'] = df['Src IP'].apply(lambda x: int(ipaddress.IPv4Address(x)))\n",
    "df['Dst IP'] = df['Dst IP'].apply(lambda x: int(ipaddress.IPv4Address(x)))\n"
   ]
  },
  {
   "cell_type": "code",
   "execution_count": 8,
   "metadata": {
    "colab": {
     "base_uri": "https://localhost:8080/",
     "height": 178
    },
    "id": "ouLwG6sI57oV",
    "outputId": "3e22f019-053f-4cb2-df3b-960a331269e1"
   },
   "outputs": [
    {
     "data": {
      "text/html": [
       "<div>\n",
       "<style scoped>\n",
       "    .dataframe tbody tr th:only-of-type {\n",
       "        vertical-align: middle;\n",
       "    }\n",
       "\n",
       "    .dataframe tbody tr th {\n",
       "        vertical-align: top;\n",
       "    }\n",
       "\n",
       "    .dataframe thead th {\n",
       "        text-align: right;\n",
       "    }\n",
       "</style>\n",
       "<table border=\"1\" class=\"dataframe\">\n",
       "  <thead>\n",
       "    <tr style=\"text-align: right;\">\n",
       "      <th></th>\n",
       "      <th>Unnamed: 0</th>\n",
       "      <th>Flow ID</th>\n",
       "      <th>Src IP</th>\n",
       "      <th>Src Port</th>\n",
       "      <th>Dst IP</th>\n",
       "      <th>Dst Port</th>\n",
       "      <th>Protocol</th>\n",
       "      <th>Timestamp</th>\n",
       "      <th>Flow Duration</th>\n",
       "      <th>Tot Fwd Pkts</th>\n",
       "      <th>...</th>\n",
       "      <th>Fwd Seg Size Min</th>\n",
       "      <th>Active Mean</th>\n",
       "      <th>Active Std</th>\n",
       "      <th>Active Max</th>\n",
       "      <th>Active Min</th>\n",
       "      <th>Idle Mean</th>\n",
       "      <th>Idle Std</th>\n",
       "      <th>Idle Max</th>\n",
       "      <th>Idle Min</th>\n",
       "      <th>Label</th>\n",
       "    </tr>\n",
       "  </thead>\n",
       "  <tbody>\n",
       "    <tr>\n",
       "      <th>0</th>\n",
       "      <td>624</td>\n",
       "      <td>192.168.4.118-203.73.24.75-4504-80-6</td>\n",
       "      <td>3232236662</td>\n",
       "      <td>4504</td>\n",
       "      <td>3410565195</td>\n",
       "      <td>80</td>\n",
       "      <td>6</td>\n",
       "      <td>12/06/2010 08:34:32 AM</td>\n",
       "      <td>3974862</td>\n",
       "      <td>29</td>\n",
       "      <td>...</td>\n",
       "      <td>0</td>\n",
       "      <td>0.0</td>\n",
       "      <td>0.0</td>\n",
       "      <td>0.0</td>\n",
       "      <td>0.0</td>\n",
       "      <td>0.0</td>\n",
       "      <td>0.0</td>\n",
       "      <td>0.0</td>\n",
       "      <td>0.0</td>\n",
       "      <td>ddos</td>\n",
       "    </tr>\n",
       "    <tr>\n",
       "      <th>1</th>\n",
       "      <td>625</td>\n",
       "      <td>192.168.4.118-203.73.24.75-4504-80-6</td>\n",
       "      <td>3232236662</td>\n",
       "      <td>4504</td>\n",
       "      <td>3410565195</td>\n",
       "      <td>80</td>\n",
       "      <td>6</td>\n",
       "      <td>12/06/2010 08:34:36 AM</td>\n",
       "      <td>63</td>\n",
       "      <td>1</td>\n",
       "      <td>...</td>\n",
       "      <td>0</td>\n",
       "      <td>0.0</td>\n",
       "      <td>0.0</td>\n",
       "      <td>0.0</td>\n",
       "      <td>0.0</td>\n",
       "      <td>0.0</td>\n",
       "      <td>0.0</td>\n",
       "      <td>0.0</td>\n",
       "      <td>0.0</td>\n",
       "      <td>ddos</td>\n",
       "    </tr>\n",
       "    <tr>\n",
       "      <th>2</th>\n",
       "      <td>626</td>\n",
       "      <td>192.168.4.118-203.73.24.75-4505-80-6</td>\n",
       "      <td>3232236662</td>\n",
       "      <td>4505</td>\n",
       "      <td>3410565195</td>\n",
       "      <td>80</td>\n",
       "      <td>6</td>\n",
       "      <td>12/06/2010 08:34:36 AM</td>\n",
       "      <td>476078</td>\n",
       "      <td>2</td>\n",
       "      <td>...</td>\n",
       "      <td>0</td>\n",
       "      <td>0.0</td>\n",
       "      <td>0.0</td>\n",
       "      <td>0.0</td>\n",
       "      <td>0.0</td>\n",
       "      <td>0.0</td>\n",
       "      <td>0.0</td>\n",
       "      <td>0.0</td>\n",
       "      <td>0.0</td>\n",
       "      <td>ddos</td>\n",
       "    </tr>\n",
       "    <tr>\n",
       "      <th>3</th>\n",
       "      <td>627</td>\n",
       "      <td>192.168.4.118-203.73.24.75-4505-80-6</td>\n",
       "      <td>3232236662</td>\n",
       "      <td>4505</td>\n",
       "      <td>3410565195</td>\n",
       "      <td>80</td>\n",
       "      <td>6</td>\n",
       "      <td>12/06/2010 08:34:37 AM</td>\n",
       "      <td>151</td>\n",
       "      <td>2</td>\n",
       "      <td>...</td>\n",
       "      <td>0</td>\n",
       "      <td>0.0</td>\n",
       "      <td>0.0</td>\n",
       "      <td>0.0</td>\n",
       "      <td>0.0</td>\n",
       "      <td>0.0</td>\n",
       "      <td>0.0</td>\n",
       "      <td>0.0</td>\n",
       "      <td>0.0</td>\n",
       "      <td>ddos</td>\n",
       "    </tr>\n",
       "    <tr>\n",
       "      <th>4</th>\n",
       "      <td>628</td>\n",
       "      <td>192.168.4.118-203.73.24.75-4506-80-6</td>\n",
       "      <td>3232236662</td>\n",
       "      <td>4506</td>\n",
       "      <td>3410565195</td>\n",
       "      <td>80</td>\n",
       "      <td>6</td>\n",
       "      <td>12/06/2010 08:34:37 AM</td>\n",
       "      <td>472507</td>\n",
       "      <td>2</td>\n",
       "      <td>...</td>\n",
       "      <td>0</td>\n",
       "      <td>0.0</td>\n",
       "      <td>0.0</td>\n",
       "      <td>0.0</td>\n",
       "      <td>0.0</td>\n",
       "      <td>0.0</td>\n",
       "      <td>0.0</td>\n",
       "      <td>0.0</td>\n",
       "      <td>0.0</td>\n",
       "      <td>ddos</td>\n",
       "    </tr>\n",
       "    <tr>\n",
       "      <th>...</th>\n",
       "      <td>...</td>\n",
       "      <td>...</td>\n",
       "      <td>...</td>\n",
       "      <td>...</td>\n",
       "      <td>...</td>\n",
       "      <td>...</td>\n",
       "      <td>...</td>\n",
       "      <td>...</td>\n",
       "      <td>...</td>\n",
       "      <td>...</td>\n",
       "      <td>...</td>\n",
       "      <td>...</td>\n",
       "      <td>...</td>\n",
       "      <td>...</td>\n",
       "      <td>...</td>\n",
       "      <td>...</td>\n",
       "      <td>...</td>\n",
       "      <td>...</td>\n",
       "      <td>...</td>\n",
       "      <td>...</td>\n",
       "      <td>...</td>\n",
       "    </tr>\n",
       "    <tr>\n",
       "      <th>1279457</th>\n",
       "      <td>1725894</td>\n",
       "      <td>172.31.67.50-209.85.203.113-53598-80-6</td>\n",
       "      <td>3512060785</td>\n",
       "      <td>80</td>\n",
       "      <td>2887729970</td>\n",
       "      <td>53598</td>\n",
       "      <td>6</td>\n",
       "      <td>20/02/2018 05:14:52</td>\n",
       "      <td>50</td>\n",
       "      <td>1</td>\n",
       "      <td>...</td>\n",
       "      <td>20</td>\n",
       "      <td>0.0</td>\n",
       "      <td>0.0</td>\n",
       "      <td>0.0</td>\n",
       "      <td>0.0</td>\n",
       "      <td>0.0</td>\n",
       "      <td>0.0</td>\n",
       "      <td>0.0</td>\n",
       "      <td>0.0</td>\n",
       "      <td>Benign</td>\n",
       "    </tr>\n",
       "    <tr>\n",
       "      <th>1279458</th>\n",
       "      <td>5681778</td>\n",
       "      <td>172.31.69.17-108.174.10.14-54599-443-6</td>\n",
       "      <td>2887730449</td>\n",
       "      <td>54599</td>\n",
       "      <td>1823345166</td>\n",
       "      <td>443</td>\n",
       "      <td>6</td>\n",
       "      <td>20/02/2018 03:08:35</td>\n",
       "      <td>306</td>\n",
       "      <td>3</td>\n",
       "      <td>...</td>\n",
       "      <td>20</td>\n",
       "      <td>0.0</td>\n",
       "      <td>0.0</td>\n",
       "      <td>0.0</td>\n",
       "      <td>0.0</td>\n",
       "      <td>0.0</td>\n",
       "      <td>0.0</td>\n",
       "      <td>0.0</td>\n",
       "      <td>0.0</td>\n",
       "      <td>Benign</td>\n",
       "    </tr>\n",
       "    <tr>\n",
       "      <th>1279459</th>\n",
       "      <td>6395326</td>\n",
       "      <td>172.31.0.2-172.31.65.49-53-61087-17</td>\n",
       "      <td>2887729457</td>\n",
       "      <td>61087</td>\n",
       "      <td>2887712770</td>\n",
       "      <td>53</td>\n",
       "      <td>17</td>\n",
       "      <td>20/02/2018 01:03:19</td>\n",
       "      <td>362</td>\n",
       "      <td>1</td>\n",
       "      <td>...</td>\n",
       "      <td>8</td>\n",
       "      <td>0.0</td>\n",
       "      <td>0.0</td>\n",
       "      <td>0.0</td>\n",
       "      <td>0.0</td>\n",
       "      <td>0.0</td>\n",
       "      <td>0.0</td>\n",
       "      <td>0.0</td>\n",
       "      <td>0.0</td>\n",
       "      <td>Benign</td>\n",
       "    </tr>\n",
       "    <tr>\n",
       "      <th>1279460</th>\n",
       "      <td>4926899</td>\n",
       "      <td>172.31.0.2-172.31.67.58-53-61580-17</td>\n",
       "      <td>2887729978</td>\n",
       "      <td>61580</td>\n",
       "      <td>2887712770</td>\n",
       "      <td>53</td>\n",
       "      <td>17</td>\n",
       "      <td>20/02/2018 12:43:11</td>\n",
       "      <td>303</td>\n",
       "      <td>1</td>\n",
       "      <td>...</td>\n",
       "      <td>8</td>\n",
       "      <td>0.0</td>\n",
       "      <td>0.0</td>\n",
       "      <td>0.0</td>\n",
       "      <td>0.0</td>\n",
       "      <td>0.0</td>\n",
       "      <td>0.0</td>\n",
       "      <td>0.0</td>\n",
       "      <td>0.0</td>\n",
       "      <td>Benign</td>\n",
       "    </tr>\n",
       "    <tr>\n",
       "      <th>1279461</th>\n",
       "      <td>7656685</td>\n",
       "      <td>169.254.169.254-172.31.65.89-80-49393-6</td>\n",
       "      <td>2887729497</td>\n",
       "      <td>49393</td>\n",
       "      <td>2852039166</td>\n",
       "      <td>80</td>\n",
       "      <td>6</td>\n",
       "      <td>20/02/2018 09:55:40</td>\n",
       "      <td>54</td>\n",
       "      <td>2</td>\n",
       "      <td>...</td>\n",
       "      <td>20</td>\n",
       "      <td>0.0</td>\n",
       "      <td>0.0</td>\n",
       "      <td>0.0</td>\n",
       "      <td>0.0</td>\n",
       "      <td>0.0</td>\n",
       "      <td>0.0</td>\n",
       "      <td>0.0</td>\n",
       "      <td>0.0</td>\n",
       "      <td>Benign</td>\n",
       "    </tr>\n",
       "  </tbody>\n",
       "</table>\n",
       "<p>1279462 rows × 85 columns</p>\n",
       "</div>"
      ],
      "text/plain": [
       "         Unnamed: 0                                  Flow ID      Src IP  \\\n",
       "0               624     192.168.4.118-203.73.24.75-4504-80-6  3232236662   \n",
       "1               625     192.168.4.118-203.73.24.75-4504-80-6  3232236662   \n",
       "2               626     192.168.4.118-203.73.24.75-4505-80-6  3232236662   \n",
       "3               627     192.168.4.118-203.73.24.75-4505-80-6  3232236662   \n",
       "4               628     192.168.4.118-203.73.24.75-4506-80-6  3232236662   \n",
       "...             ...                                      ...         ...   \n",
       "1279457     1725894   172.31.67.50-209.85.203.113-53598-80-6  3512060785   \n",
       "1279458     5681778   172.31.69.17-108.174.10.14-54599-443-6  2887730449   \n",
       "1279459     6395326      172.31.0.2-172.31.65.49-53-61087-17  2887729457   \n",
       "1279460     4926899      172.31.0.2-172.31.67.58-53-61580-17  2887729978   \n",
       "1279461     7656685  169.254.169.254-172.31.65.89-80-49393-6  2887729497   \n",
       "\n",
       "         Src Port      Dst IP  Dst Port  Protocol               Timestamp  \\\n",
       "0            4504  3410565195        80         6  12/06/2010 08:34:32 AM   \n",
       "1            4504  3410565195        80         6  12/06/2010 08:34:36 AM   \n",
       "2            4505  3410565195        80         6  12/06/2010 08:34:36 AM   \n",
       "3            4505  3410565195        80         6  12/06/2010 08:34:37 AM   \n",
       "4            4506  3410565195        80         6  12/06/2010 08:34:37 AM   \n",
       "...           ...         ...       ...       ...                     ...   \n",
       "1279457        80  2887729970     53598         6     20/02/2018 05:14:52   \n",
       "1279458     54599  1823345166       443         6     20/02/2018 03:08:35   \n",
       "1279459     61087  2887712770        53        17     20/02/2018 01:03:19   \n",
       "1279460     61580  2887712770        53        17     20/02/2018 12:43:11   \n",
       "1279461     49393  2852039166        80         6     20/02/2018 09:55:40   \n",
       "\n",
       "         Flow Duration  Tot Fwd Pkts  ...  Fwd Seg Size Min  Active Mean  \\\n",
       "0              3974862            29  ...                 0          0.0   \n",
       "1                   63             1  ...                 0          0.0   \n",
       "2               476078             2  ...                 0          0.0   \n",
       "3                  151             2  ...                 0          0.0   \n",
       "4               472507             2  ...                 0          0.0   \n",
       "...                ...           ...  ...               ...          ...   \n",
       "1279457             50             1  ...                20          0.0   \n",
       "1279458            306             3  ...                20          0.0   \n",
       "1279459            362             1  ...                 8          0.0   \n",
       "1279460            303             1  ...                 8          0.0   \n",
       "1279461             54             2  ...                20          0.0   \n",
       "\n",
       "         Active Std  Active Max  Active Min  Idle Mean  Idle Std  Idle Max  \\\n",
       "0               0.0         0.0         0.0        0.0       0.0       0.0   \n",
       "1               0.0         0.0         0.0        0.0       0.0       0.0   \n",
       "2               0.0         0.0         0.0        0.0       0.0       0.0   \n",
       "3               0.0         0.0         0.0        0.0       0.0       0.0   \n",
       "4               0.0         0.0         0.0        0.0       0.0       0.0   \n",
       "...             ...         ...         ...        ...       ...       ...   \n",
       "1279457         0.0         0.0         0.0        0.0       0.0       0.0   \n",
       "1279458         0.0         0.0         0.0        0.0       0.0       0.0   \n",
       "1279459         0.0         0.0         0.0        0.0       0.0       0.0   \n",
       "1279460         0.0         0.0         0.0        0.0       0.0       0.0   \n",
       "1279461         0.0         0.0         0.0        0.0       0.0       0.0   \n",
       "\n",
       "         Idle Min   Label  \n",
       "0             0.0    ddos  \n",
       "1             0.0    ddos  \n",
       "2             0.0    ddos  \n",
       "3             0.0    ddos  \n",
       "4             0.0    ddos  \n",
       "...           ...     ...  \n",
       "1279457       0.0  Benign  \n",
       "1279458       0.0  Benign  \n",
       "1279459       0.0  Benign  \n",
       "1279460       0.0  Benign  \n",
       "1279461       0.0  Benign  \n",
       "\n",
       "[1279462 rows x 85 columns]"
      ]
     },
     "execution_count": 8,
     "metadata": {},
     "output_type": "execute_result"
    }
   ],
   "source": [
    "df\n"
   ]
  },
  {
   "cell_type": "markdown",
   "metadata": {
    "id": "B9dnfQMx6urB"
   },
   "source": [
    "# Проверим наличие пропусков в датасете"
   ]
  },
  {
   "cell_type": "code",
   "execution_count": 9,
   "metadata": {},
   "outputs": [
    {
     "name": "stdout",
     "output_type": "stream",
     "text": [
      "Найдено пропусков  Flow Byts/s 3002\n"
     ]
    }
   ],
   "source": [
    "g = df.isna().sum()\n",
    "for col_name in g.index:  # Итерируем по названиям колонок\n",
    "    if g[col_name] != 0:\n",
    "        print(\"Найдено пропусков \", col_name, g[col_name])"
   ]
  },
  {
   "cell_type": "markdown",
   "metadata": {
    "id": "9EMKxDtiTzW3"
   },
   "source": [
    "# Найдем столбцы столбцы с большим кол-во повторяющихся значений"
   ]
  },
  {
   "cell_type": "code",
   "execution_count": 10,
   "metadata": {
    "id": "Ecetf8KJAjjl"
   },
   "outputs": [
    {
     "data": {
      "text/plain": [
       "array(['Fwd PSH Flags', 'Bwd PSH Flags', 'Fwd URG Flags', 'Bwd URG Flags',\n",
       "       'FIN Flag Cnt', 'URG Flag Cnt', 'Fwd Byts/b Avg', 'Fwd Pkts/b Avg',\n",
       "       'Fwd Blk Rate Avg', 'Bwd Byts/b Avg', 'Bwd Pkts/b Avg',\n",
       "       'Bwd Blk Rate Avg'], dtype=object)"
      ]
     },
     "execution_count": 10,
     "metadata": {},
     "output_type": "execute_result"
    }
   ],
   "source": [
    "\n",
    "rowbuilder = lambda col: {'col': col, 'unique_values': df[col].nunique(), 'most_frequent_value': df[col].value_counts().index[0],'frequency': df[col].value_counts(normalize=True).values[0]}\n",
    "frequency = [rowbuilder(col) for col in df.columns]\n",
    "skewed = pd.DataFrame(frequency)\n",
    "\n",
    "skewed = skewed[skewed['frequency'] >= 0.95]\n",
    "colsToDrop = skewed['col'].values\n",
    "colsToDrop"
   ]
  },
  {
   "cell_type": "markdown",
   "metadata": {
    "id": "ODFEy_HVT60Z"
   },
   "source": [
    "# Найдем столбцы с пропущенными значениями"
   ]
  },
  {
   "cell_type": "code",
   "execution_count": 11,
   "metadata": {
    "id": "7xfmZptpPVsF"
   },
   "outputs": [
    {
     "data": {
      "text/plain": [
       "(array(['Flow Byts/s'], dtype=object),\n",
       " array(['Bwd Blk Rate Avg', 'Bwd Byts/b Avg', 'Bwd PSH Flags',\n",
       "        'Bwd Pkts/b Avg', 'Bwd URG Flags', 'FIN Flag Cnt',\n",
       "        'Fwd Blk Rate Avg', 'Fwd Byts/b Avg', 'Fwd PSH Flags',\n",
       "        'Fwd Pkts/b Avg', 'Fwd URG Flags', 'URG Flag Cnt'], dtype=object))"
      ]
     },
     "execution_count": 11,
     "metadata": {},
     "output_type": "execute_result"
    }
   ],
   "source": [
    "\n",
    "del skewed\n",
    "del rowbuilder\n",
    "del frequency\n",
    "\n",
    "missing = df.isna().sum()\n",
    "missing = pd.DataFrame({'count': missing, '% of total': missing/len(df)*100}, index=df.columns)\n",
    "missing\n",
    "colsToDrop = np.union1d(colsToDrop, missing[missing['% of total'] >= 50].index.values)\n",
    "dropnaCols = missing[(missing['% of total'] > 0) & (missing['% of total'] <= 5)].index.values\n",
    "dropnaCols, colsToDrop"
   ]
  },
  {
   "cell_type": "markdown",
   "metadata": {
    "id": "EPfRhQiWT_jm"
   },
   "source": [
    "# Удалим столбцы с большим кол-во повторяющихся значений и с пропусками"
   ]
  },
  {
   "cell_type": "code",
   "execution_count": 12,
   "metadata": {
    "colab": {
     "base_uri": "https://localhost:8080/"
    },
    "id": "Pxa6-ixuTHzd",
    "outputId": "2d394d35-b0b1-4c73-e22e-378a9440a14d"
   },
   "outputs": [
    {
     "name": "stdout",
     "output_type": "stream",
     "text": [
      "After dropping some columns: \n",
      "\t there are 73 columns and 1276460 rows\n"
     ]
    }
   ],
   "source": [
    "\n",
    "df.drop(columns=colsToDrop, inplace=True)\n",
    "df.dropna(subset=dropnaCols, inplace=True)\n",
    "\n",
    "print('After dropping some columns: \\n\\t there are {} columns and {} rows'.format(len(df.columns), len(df)))"
   ]
  },
  {
   "cell_type": "markdown",
   "metadata": {
    "id": "s0bzWWd_b9DB"
   },
   "source": [
    "# Удалим столбцы с бесконечными значениями\n"
   ]
  },
  {
   "cell_type": "code",
   "execution_count": 13,
   "metadata": {
    "id": "6rxbSdYZcCQ0"
   },
   "outputs": [],
   "source": [
    "numeric_columns = df.select_dtypes(include=[np.number]).columns\n",
    "\n",
    "# Шаг 2: Находим строки с бесконечными значениями в числовых столбцах\n",
    "rows_with_inf = df[np.isinf(df[numeric_columns]).any(axis=1)]\n",
    "\n",
    "# Шаг 3: Собираем имена столбцов, содержащих бесконечные значения\n",
    "inf_subset = set()\n",
    "for index, row in rows_with_inf.iterrows():\n",
    "    for column_name, value in row[numeric_columns].items():  # Только числовые столбцы\n",
    "        if np.isinf(value):  # Проверяем, является ли значение бесконечностью\n",
    "            inf_subset.add(column_name)\n",
    "\n",
    "inf_subset = list(inf_subset)\n",
    "df.replace([np.inf, -np.inf], np.nan, inplace=True)\n",
    "df.dropna(subset=inf_subset, how=\"all\", inplace=True)\n",
    "rows_with_inf = df[np.isinf(df[numeric_columns]).any(axis=1)]\n",
    "colsToDrop = set([i for i in colsToDrop]) | set(inf_subset)"
   ]
  },
  {
   "cell_type": "code",
   "execution_count": 14,
   "metadata": {
    "colab": {
     "base_uri": "https://localhost:8080/"
    },
    "id": "yJACC1eEUIc3",
    "outputId": "96d1e4e8-306a-4d67-c36d-d40a3125fe93"
   },
   "outputs": [
    {
     "data": {
      "text/plain": [
       "(1274640, 73)"
      ]
     },
     "execution_count": 14,
     "metadata": {},
     "output_type": "execute_result"
    }
   ],
   "source": [
    "df.shape"
   ]
  },
  {
   "cell_type": "markdown",
   "metadata": {
    "id": "leWtKE2tVhDu"
   },
   "source": [
    "# Удалим возможные отрицательные значения (признаки приведенные ниже не могу быть отрицательными)\n"
   ]
  },
  {
   "cell_type": "code",
   "execution_count": 15,
   "metadata": {
    "id": "nP5QW6wLUbZq"
   },
   "outputs": [
    {
     "name": "stdout",
     "output_type": "stream",
     "text": [
      "{'Bwd Byts/b Avg', 'Bwd URG Flags', 'Fwd URG Flags', 'Flow Byts/s', 'Bwd Blk Rate Avg', 'Bwd PSH Flags', 'Bwd Pkts/b Avg', 'Fwd PSH Flags', 'URG Flag Cnt', 'Flow Pkts/s', 'Fwd Byts/b Avg', 'Fwd Blk Rate Avg', 'Fwd Pkts/b Avg', 'FIN Flag Cnt'}\n",
      "{'Src IP', 'Bwd IAT Mean', 'Dst IP', 'Bwd IAT Tot', 'Bwd IAT Min', 'Flow IAT Min', 'Bwd IAT Max', 'Flow IAT Mean', 'Flow IAT Max', 'Init Bwd Win Byts'}\n"
     ]
    }
   ],
   "source": [
    "negValCols = ['Src IP', 'Dst IP', 'Flow Pkts/s', 'Flow IAT Mean', 'Flow IAT Max', 'Flow IAT Min', 'Init Bwd Win Byts', 'Bwd IAT Tot', 'Bwd IAT Mean', 'Bwd IAT Max', 'Bwd IAT Min']\n",
    "print(colsToDrop)\n",
    "negValCols = set(negValCols) - colsToDrop\n",
    "print(negValCols)\n",
    "for col in negValCols:\n",
    "    if df[col].dtype in ['float64', 'int64']:\n",
    "        df = df[df[col] >= 0]"
   ]
  },
  {
   "cell_type": "code",
   "execution_count": 16,
   "metadata": {},
   "outputs": [
    {
     "data": {
      "text/plain": [
       "(942124, 73)"
      ]
     },
     "execution_count": 16,
     "metadata": {},
     "output_type": "execute_result"
    }
   ],
   "source": [
    "df.shape"
   ]
  },
  {
   "cell_type": "markdown",
   "metadata": {},
   "source": [
    "# Опираясь на предметную область, выберем наиболее важные признаки"
   ]
  },
  {
   "cell_type": "code",
   "execution_count": 17,
   "metadata": {},
   "outputs": [
    {
     "data": {
      "text/plain": [
       "['Dst IP',\n",
       " 'RST Flag Cnt',\n",
       " 'Protocol',\n",
       " 'Fwd Seg Size Min',\n",
       " 'PSH Flag Cnt',\n",
       " 'Fwd IAT Mean',\n",
       " 'Src IP',\n",
       " 'Bwd IAT Tot',\n",
       " 'Fwd Pkt Len Max',\n",
       " 'Bwd Pkt Len Std',\n",
       " 'SYN Flag Cnt',\n",
       " 'Dst Port',\n",
       " 'Flow Duration',\n",
       " 'Label',\n",
       " 'Flow IAT Min',\n",
       " 'Src Port',\n",
       " 'TotLen Fwd Pkts',\n",
       " 'Tot Bwd Pkts',\n",
       " 'Tot Fwd Pkts',\n",
       " 'Init Bwd Win Byts']"
      ]
     },
     "execution_count": 17,
     "metadata": {},
     "output_type": "execute_result"
    }
   ],
   "source": [
    "most_important_features = set([\n",
    "    \"Src IP\",\n",
    "    \"Src Port\",\n",
    "    \"Dst IP\",\n",
    "    \"Dst Port\",\n",
    "    \"Protocol\",\n",
    "    \"Tot Fwd Pkts\",\n",
    "    \"Tot Bwd Pkts\",\n",
    "    \"Fwd Pkt Len Max\",\n",
    "    \"TotLen Fwd Pkts\",\n",
    "    \"Fwd Seg Size Min\",\n",
    "    \"Init Bwd Win Byts\",\n",
    "    \"Bwd Pkt Len Std\",\n",
    "    \"Flow Duration\",\n",
    "    \"Fwd IAT Mean\",\n",
    "    \"Flow IAT Min\",\n",
    "    \"Bwd IAT Tot\",\n",
    "    \"SYN Flag Cnt\",\n",
    "    \"RST Flag Cnt\",\n",
    "    \"PSH Flag Cnt\",\n",
    "    \"Flow Pkts/s\",\n",
    "    \"Flow Byts/s\",\n",
    "    \"Label\"])\n",
    "droped_cols = set([i for i in colsToDrop]) | set(inf_subset)\n",
    "colsToUse = list(most_important_features - droped_cols)\n",
    "colsToUse"
   ]
  },
  {
   "cell_type": "code",
   "execution_count": 18,
   "metadata": {},
   "outputs": [
    {
     "data": {
      "text/html": [
       "<div>\n",
       "<style scoped>\n",
       "    .dataframe tbody tr th:only-of-type {\n",
       "        vertical-align: middle;\n",
       "    }\n",
       "\n",
       "    .dataframe tbody tr th {\n",
       "        vertical-align: top;\n",
       "    }\n",
       "\n",
       "    .dataframe thead th {\n",
       "        text-align: right;\n",
       "    }\n",
       "</style>\n",
       "<table border=\"1\" class=\"dataframe\">\n",
       "  <thead>\n",
       "    <tr style=\"text-align: right;\">\n",
       "      <th></th>\n",
       "      <th>Dst IP</th>\n",
       "      <th>RST Flag Cnt</th>\n",
       "      <th>Protocol</th>\n",
       "      <th>Fwd Seg Size Min</th>\n",
       "      <th>PSH Flag Cnt</th>\n",
       "      <th>Fwd IAT Mean</th>\n",
       "      <th>Src IP</th>\n",
       "      <th>Bwd IAT Tot</th>\n",
       "      <th>Fwd Pkt Len Max</th>\n",
       "      <th>Bwd Pkt Len Std</th>\n",
       "      <th>SYN Flag Cnt</th>\n",
       "      <th>Dst Port</th>\n",
       "      <th>Flow Duration</th>\n",
       "      <th>Label</th>\n",
       "      <th>Flow IAT Min</th>\n",
       "      <th>Src Port</th>\n",
       "      <th>TotLen Fwd Pkts</th>\n",
       "      <th>Tot Bwd Pkts</th>\n",
       "      <th>Tot Fwd Pkts</th>\n",
       "      <th>Init Bwd Win Byts</th>\n",
       "    </tr>\n",
       "  </thead>\n",
       "  <tbody>\n",
       "    <tr>\n",
       "      <th>0</th>\n",
       "      <td>3410565195</td>\n",
       "      <td>0</td>\n",
       "      <td>6</td>\n",
       "      <td>0</td>\n",
       "      <td>0</td>\n",
       "      <td>1.334052e+05</td>\n",
       "      <td>3232236662</td>\n",
       "      <td>3974862.0</td>\n",
       "      <td>86.0</td>\n",
       "      <td>372.027190</td>\n",
       "      <td>1</td>\n",
       "      <td>80</td>\n",
       "      <td>3974862</td>\n",
       "      <td>ddos</td>\n",
       "      <td>167.0</td>\n",
       "      <td>4504</td>\n",
       "      <td>86.0</td>\n",
       "      <td>44</td>\n",
       "      <td>29</td>\n",
       "      <td>5840</td>\n",
       "    </tr>\n",
       "    <tr>\n",
       "      <th>1</th>\n",
       "      <td>3410565195</td>\n",
       "      <td>0</td>\n",
       "      <td>6</td>\n",
       "      <td>0</td>\n",
       "      <td>0</td>\n",
       "      <td>0.000000e+00</td>\n",
       "      <td>3232236662</td>\n",
       "      <td>0.0</td>\n",
       "      <td>0.0</td>\n",
       "      <td>0.000000</td>\n",
       "      <td>0</td>\n",
       "      <td>80</td>\n",
       "      <td>63</td>\n",
       "      <td>ddos</td>\n",
       "      <td>63.0</td>\n",
       "      <td>4504</td>\n",
       "      <td>0.0</td>\n",
       "      <td>1</td>\n",
       "      <td>1</td>\n",
       "      <td>17520</td>\n",
       "    </tr>\n",
       "    <tr>\n",
       "      <th>2</th>\n",
       "      <td>3410565195</td>\n",
       "      <td>0</td>\n",
       "      <td>6</td>\n",
       "      <td>0</td>\n",
       "      <td>0</td>\n",
       "      <td>1.340000e+02</td>\n",
       "      <td>3232236662</td>\n",
       "      <td>476078.0</td>\n",
       "      <td>86.0</td>\n",
       "      <td>740.224403</td>\n",
       "      <td>1</td>\n",
       "      <td>80</td>\n",
       "      <td>476078</td>\n",
       "      <td>ddos</td>\n",
       "      <td>6.0</td>\n",
       "      <td>4505</td>\n",
       "      <td>86.0</td>\n",
       "      <td>6</td>\n",
       "      <td>2</td>\n",
       "      <td>5840</td>\n",
       "    </tr>\n",
       "    <tr>\n",
       "      <th>3</th>\n",
       "      <td>3410565195</td>\n",
       "      <td>0</td>\n",
       "      <td>6</td>\n",
       "      <td>0</td>\n",
       "      <td>0</td>\n",
       "      <td>1.450000e+02</td>\n",
       "      <td>3232236662</td>\n",
       "      <td>0.0</td>\n",
       "      <td>0.0</td>\n",
       "      <td>0.000000</td>\n",
       "      <td>0</td>\n",
       "      <td>80</td>\n",
       "      <td>151</td>\n",
       "      <td>ddos</td>\n",
       "      <td>6.0</td>\n",
       "      <td>4505</td>\n",
       "      <td>0.0</td>\n",
       "      <td>1</td>\n",
       "      <td>2</td>\n",
       "      <td>17520</td>\n",
       "    </tr>\n",
       "    <tr>\n",
       "      <th>4</th>\n",
       "      <td>3410565195</td>\n",
       "      <td>0</td>\n",
       "      <td>6</td>\n",
       "      <td>0</td>\n",
       "      <td>0</td>\n",
       "      <td>1.790000e+02</td>\n",
       "      <td>3232236662</td>\n",
       "      <td>472507.0</td>\n",
       "      <td>73.0</td>\n",
       "      <td>469.574275</td>\n",
       "      <td>1</td>\n",
       "      <td>80</td>\n",
       "      <td>472507</td>\n",
       "      <td>ddos</td>\n",
       "      <td>7.0</td>\n",
       "      <td>4506</td>\n",
       "      <td>73.0</td>\n",
       "      <td>5</td>\n",
       "      <td>2</td>\n",
       "      <td>5840</td>\n",
       "    </tr>\n",
       "    <tr>\n",
       "      <th>...</th>\n",
       "      <td>...</td>\n",
       "      <td>...</td>\n",
       "      <td>...</td>\n",
       "      <td>...</td>\n",
       "      <td>...</td>\n",
       "      <td>...</td>\n",
       "      <td>...</td>\n",
       "      <td>...</td>\n",
       "      <td>...</td>\n",
       "      <td>...</td>\n",
       "      <td>...</td>\n",
       "      <td>...</td>\n",
       "      <td>...</td>\n",
       "      <td>...</td>\n",
       "      <td>...</td>\n",
       "      <td>...</td>\n",
       "      <td>...</td>\n",
       "      <td>...</td>\n",
       "      <td>...</td>\n",
       "      <td>...</td>\n",
       "    </tr>\n",
       "    <tr>\n",
       "      <th>1279443</th>\n",
       "      <td>886021359</td>\n",
       "      <td>1</td>\n",
       "      <td>6</td>\n",
       "      <td>20</td>\n",
       "      <td>1</td>\n",
       "      <td>2.214005e+06</td>\n",
       "      <td>2887729715</td>\n",
       "      <td>20073175.0</td>\n",
       "      <td>703.0</td>\n",
       "      <td>656.620853</td>\n",
       "      <td>0</td>\n",
       "      <td>443</td>\n",
       "      <td>22140048</td>\n",
       "      <td>Benign</td>\n",
       "      <td>5.0</td>\n",
       "      <td>55791</td>\n",
       "      <td>1031.0</td>\n",
       "      <td>10</td>\n",
       "      <td>11</td>\n",
       "      <td>115</td>\n",
       "    </tr>\n",
       "    <tr>\n",
       "      <th>1279444</th>\n",
       "      <td>2852039166</td>\n",
       "      <td>1</td>\n",
       "      <td>6</td>\n",
       "      <td>20</td>\n",
       "      <td>1</td>\n",
       "      <td>5.054667e+03</td>\n",
       "      <td>2887729450</td>\n",
       "      <td>5635132.0</td>\n",
       "      <td>97.0</td>\n",
       "      <td>115.500000</td>\n",
       "      <td>0</td>\n",
       "      <td>80</td>\n",
       "      <td>5635269</td>\n",
       "      <td>Benign</td>\n",
       "      <td>12.0</td>\n",
       "      <td>49747</td>\n",
       "      <td>97.0</td>\n",
       "      <td>4</td>\n",
       "      <td>4</td>\n",
       "      <td>141</td>\n",
       "    </tr>\n",
       "    <tr>\n",
       "      <th>1279445</th>\n",
       "      <td>2887729196</td>\n",
       "      <td>0</td>\n",
       "      <td>6</td>\n",
       "      <td>20</td>\n",
       "      <td>1</td>\n",
       "      <td>1.541795e+05</td>\n",
       "      <td>3388172462</td>\n",
       "      <td>616745.0</td>\n",
       "      <td>140.0</td>\n",
       "      <td>62.753486</td>\n",
       "      <td>0</td>\n",
       "      <td>445</td>\n",
       "      <td>616798</td>\n",
       "      <td>Benign</td>\n",
       "      <td>53.0</td>\n",
       "      <td>50966</td>\n",
       "      <td>373.0</td>\n",
       "      <td>4</td>\n",
       "      <td>5</td>\n",
       "      <td>0</td>\n",
       "    </tr>\n",
       "    <tr>\n",
       "      <th>1279448</th>\n",
       "      <td>2887730185</td>\n",
       "      <td>0</td>\n",
       "      <td>6</td>\n",
       "      <td>20</td>\n",
       "      <td>1</td>\n",
       "      <td>3.802464e+05</td>\n",
       "      <td>3118348372</td>\n",
       "      <td>2565859.0</td>\n",
       "      <td>661.0</td>\n",
       "      <td>385.561279</td>\n",
       "      <td>0</td>\n",
       "      <td>3389</td>\n",
       "      <td>2661725</td>\n",
       "      <td>Benign</td>\n",
       "      <td>30.0</td>\n",
       "      <td>63347</td>\n",
       "      <td>1132.0</td>\n",
       "      <td>9</td>\n",
       "      <td>8</td>\n",
       "      <td>62868</td>\n",
       "    </tr>\n",
       "    <tr>\n",
       "      <th>1279457</th>\n",
       "      <td>2887729970</td>\n",
       "      <td>0</td>\n",
       "      <td>6</td>\n",
       "      <td>20</td>\n",
       "      <td>0</td>\n",
       "      <td>0.000000e+00</td>\n",
       "      <td>3512060785</td>\n",
       "      <td>0.0</td>\n",
       "      <td>0.0</td>\n",
       "      <td>0.000000</td>\n",
       "      <td>0</td>\n",
       "      <td>53598</td>\n",
       "      <td>50</td>\n",
       "      <td>Benign</td>\n",
       "      <td>50.0</td>\n",
       "      <td>80</td>\n",
       "      <td>0.0</td>\n",
       "      <td>1</td>\n",
       "      <td>1</td>\n",
       "      <td>255</td>\n",
       "    </tr>\n",
       "  </tbody>\n",
       "</table>\n",
       "<p>942124 rows × 20 columns</p>\n",
       "</div>"
      ],
      "text/plain": [
       "             Dst IP  RST Flag Cnt  Protocol  Fwd Seg Size Min  PSH Flag Cnt  \\\n",
       "0        3410565195             0         6                 0             0   \n",
       "1        3410565195             0         6                 0             0   \n",
       "2        3410565195             0         6                 0             0   \n",
       "3        3410565195             0         6                 0             0   \n",
       "4        3410565195             0         6                 0             0   \n",
       "...             ...           ...       ...               ...           ...   \n",
       "1279443   886021359             1         6                20             1   \n",
       "1279444  2852039166             1         6                20             1   \n",
       "1279445  2887729196             0         6                20             1   \n",
       "1279448  2887730185             0         6                20             1   \n",
       "1279457  2887729970             0         6                20             0   \n",
       "\n",
       "         Fwd IAT Mean      Src IP  Bwd IAT Tot  Fwd Pkt Len Max  \\\n",
       "0        1.334052e+05  3232236662    3974862.0             86.0   \n",
       "1        0.000000e+00  3232236662          0.0              0.0   \n",
       "2        1.340000e+02  3232236662     476078.0             86.0   \n",
       "3        1.450000e+02  3232236662          0.0              0.0   \n",
       "4        1.790000e+02  3232236662     472507.0             73.0   \n",
       "...               ...         ...          ...              ...   \n",
       "1279443  2.214005e+06  2887729715   20073175.0            703.0   \n",
       "1279444  5.054667e+03  2887729450    5635132.0             97.0   \n",
       "1279445  1.541795e+05  3388172462     616745.0            140.0   \n",
       "1279448  3.802464e+05  3118348372    2565859.0            661.0   \n",
       "1279457  0.000000e+00  3512060785          0.0              0.0   \n",
       "\n",
       "         Bwd Pkt Len Std  SYN Flag Cnt  Dst Port  Flow Duration   Label  \\\n",
       "0             372.027190             1        80        3974862    ddos   \n",
       "1               0.000000             0        80             63    ddos   \n",
       "2             740.224403             1        80         476078    ddos   \n",
       "3               0.000000             0        80            151    ddos   \n",
       "4             469.574275             1        80         472507    ddos   \n",
       "...                  ...           ...       ...            ...     ...   \n",
       "1279443       656.620853             0       443       22140048  Benign   \n",
       "1279444       115.500000             0        80        5635269  Benign   \n",
       "1279445        62.753486             0       445         616798  Benign   \n",
       "1279448       385.561279             0      3389        2661725  Benign   \n",
       "1279457         0.000000             0     53598             50  Benign   \n",
       "\n",
       "         Flow IAT Min  Src Port  TotLen Fwd Pkts  Tot Bwd Pkts  Tot Fwd Pkts  \\\n",
       "0               167.0      4504             86.0            44            29   \n",
       "1                63.0      4504              0.0             1             1   \n",
       "2                 6.0      4505             86.0             6             2   \n",
       "3                 6.0      4505              0.0             1             2   \n",
       "4                 7.0      4506             73.0             5             2   \n",
       "...               ...       ...              ...           ...           ...   \n",
       "1279443           5.0     55791           1031.0            10            11   \n",
       "1279444          12.0     49747             97.0             4             4   \n",
       "1279445          53.0     50966            373.0             4             5   \n",
       "1279448          30.0     63347           1132.0             9             8   \n",
       "1279457          50.0        80              0.0             1             1   \n",
       "\n",
       "         Init Bwd Win Byts  \n",
       "0                     5840  \n",
       "1                    17520  \n",
       "2                     5840  \n",
       "3                    17520  \n",
       "4                     5840  \n",
       "...                    ...  \n",
       "1279443                115  \n",
       "1279444                141  \n",
       "1279445                  0  \n",
       "1279448              62868  \n",
       "1279457                255  \n",
       "\n",
       "[942124 rows x 20 columns]"
      ]
     },
     "execution_count": 18,
     "metadata": {},
     "output_type": "execute_result"
    }
   ],
   "source": [
    "df = df[colsToUse]\n",
    "df"
   ]
  },
  {
   "cell_type": "code",
   "execution_count": 19,
   "metadata": {},
   "outputs": [],
   "source": [
    "# import matplotlib.pyplot as plt\n",
    "# import seaborn as sns\n",
    "\n",
    "# for feature in df.columns: \n",
    "#     plt.figure(figsize=(8, 4))\n",
    "#     sns.histplot(data=df, x=feature, kde=True, bins=30)\n",
    "#     plt.title(f\"Распределение {feature}\")\n",
    "#     plt.show()"
   ]
  },
  {
   "cell_type": "code",
   "execution_count": null,
   "metadata": {},
   "outputs": [],
   "source": []
  },
  {
   "cell_type": "markdown",
   "metadata": {},
   "source": [
    "# Расчитаем выбросы"
   ]
  },
  {
   "cell_type": "code",
   "execution_count": 20,
   "metadata": {},
   "outputs": [],
   "source": [
    "import numpy as np\n",
    "from robustats import medcouple\n",
    "\n",
    "def adjusted_boxplot(data):\n",
    "    data = np.array(data, dtype=np.float64)\n",
    "    q1, q3 = np.percentile(data, [25, 75])\n",
    "    iqr = q3 - q1\n",
    "    mc = medcouple(data)  # Медианный коэффициент асимметрии\n",
    "    \n",
    "    # Корректировка границ\n",
    "    if mc >= 0:\n",
    "        lower_bound = q1 - 1.5 * np.exp(-4 * mc) * iqr\n",
    "        upper_bound = q3 + 1.5 * np.exp(3 * mc) * iqr\n",
    "    else:\n",
    "        lower_bound = q1 - 1.5 * np.exp(-3 * mc) * iqr\n",
    "        upper_bound = q3 + 1.5 * np.exp(4 * mc) * iqr\n",
    "    \n",
    "    return lower_bound, upper_bound\n",
    "\n",
    "# Пример для признака 'Tot Fwd Pkts'\n",
    "\n",
    "def outliers_iqr(data, coef=4):\n",
    "    q1 = data.quantile(0.25)\n",
    "    q3 = data.quantile(0.75)\n",
    "    iqr = q3 - q1\n",
    "    lower_bound = q1 - coef * iqr\n",
    "    upper_bound = q3 + coef * iqr\n",
    "    return lower_bound, upper_bound\n",
    "\n",
    "def outliers(df, feature):\n",
    "    if df[feature].dtype in [\"float64\", \"int64\"] and feature not in set([\"Label\", \"Src Port\", \"Src IP\", \"Dst IP\"]):\n",
    "        main_data = df[df[feature] > 0][feature]\n",
    "        soft_upper = main_data.quantile(0.95)  # Верхние 1% считаем выбросами\n",
    "        extreme_mask = (df[feature] > soft_upper)\n",
    "        df[feature] = np.where(extreme_mask, soft_upper, df[feature])  # Winsorization"
   ]
  },
  {
   "cell_type": "markdown",
   "metadata": {},
   "source": [
    "# Выберем подвыборку для GNB и для random forest"
   ]
  },
  {
   "cell_type": "code",
   "execution_count": 21,
   "metadata": {},
   "outputs": [
    {
     "name": "stdout",
     "output_type": "stream",
     "text": [
      "942124\n",
      "942124\n",
      "942124\n",
      "942124\n",
      "942124\n",
      "942124\n",
      "942124\n",
      "942124\n",
      "942124\n",
      "942124\n",
      "942124\n",
      "942124\n",
      "942124\n",
      "942124\n",
      "942124\n",
      "942124\n",
      "942124\n",
      "942124\n",
      "942124\n",
      "942124\n"
     ]
    }
   ],
   "source": [
    "df_forest = df.copy()\n",
    "df_gaus = df.copy()\n",
    "df_gaus.drop(columns=['Label', 'Src Port', 'Src IP', 'Dst IP'])\n",
    "\n",
    "for feature in df_gaus.columns:\n",
    "    outliers(df_gaus, feature)\n",
    "    print(len(df_gaus))\n"
   ]
  },
  {
   "cell_type": "code",
   "execution_count": 22,
   "metadata": {},
   "outputs": [
    {
     "data": {
      "text/plain": [
       "(942124, 20)"
      ]
     },
     "execution_count": 22,
     "metadata": {},
     "output_type": "execute_result"
    }
   ],
   "source": [
    "df_gaus.shape"
   ]
  },
  {
   "cell_type": "code",
   "execution_count": 23,
   "metadata": {},
   "outputs": [
    {
     "data": {
      "image/png": "[encoded data removed]",
      "text/plain": [
       "<Figure size 1300x800 with 1 Axes>"
      ]
     },
     "metadata": {},
     "output_type": "display_data"
    }
   ],
   "source": [
    "Label = ['DDoS','Benign']\n",
    "num_of_ddos_classes = df['Label'].value_counts()['ddos']\n",
    "num_of_benign_classes = df['Label'].value_counts()['Benign']\n",
    "plt.figure(figsize = (13,8))\n",
    "colors = sn.color_palette(\"Set2\")\n",
    "plt.pie([num_of_ddos_classes, num_of_benign_classes], labels=Label, autopct='%1.1f%%',shadow=True, startangle=90,colors=colors)\n",
    "plt.legend(['DDoS', 'Benign'])\n",
    "plt.title('The percentage of Benign and DDoS Requests in dataset')\n",
    "plt.show()"
   ]
  },
  {
   "cell_type": "code",
   "execution_count": null,
   "metadata": {},
   "outputs": [],
   "source": []
  },
  {
   "cell_type": "code",
   "execution_count": null,
   "metadata": {},
   "outputs": [],
   "source": []
  },
  {
   "cell_type": "markdown",
   "metadata": {
    "id": "ZKTJY9AEfheO"
   },
   "source": [
    "# Возпользуемся GNB классификатором"
   ]
  },
  {
   "cell_type": "code",
   "execution_count": 24,
   "metadata": {},
   "outputs": [
    {
     "name": "stdout",
     "output_type": "stream",
     "text": [
      "Training-set accuracy score: 0.9693\n",
      "Test-set accuracy score: 0.9702\n",
      "Precision score: 0.9879\n",
      "Recall score: 0.9679\n"
     ]
    }
   ],
   "source": [
    "import pandas as pd\n",
    "from sklearn.preprocessing import StandardScaler\n",
    "from sklearn.model_selection import train_test_split\n",
    "from sklearn.naive_bayes import GaussianNB\n",
    "from sklearn.metrics import accuracy_score, precision_score, recall_score\n",
    "\n",
    "\n",
    "Y = df_gaus['Label']  \n",
    "label_mapping = {'Benign': 0, 'ddos': 1}\n",
    "Y = Y.map(label_mapping)  \n",
    "X = df_gaus.drop(columns=['Label'])  \n",
    "\n",
    "X_train, X_test, y_train, y_test = train_test_split(\n",
    "    X, Y, test_size=0.20, random_state=44  \n",
    ")\n",
    "\n",
    "scaler = StandardScaler()\n",
    "\n",
    "X_train_scaled = scaler.fit_transform(X_train)\n",
    "X_train_scaled = pd.DataFrame(X_train_scaled, columns=X_train.columns)\n",
    "\n",
    "X_test_scaled = scaler.transform(X_test)\n",
    "X_test_scaled = pd.DataFrame(X_test_scaled, columns=X_test.columns)\n",
    "\n",
    "classifier = GaussianNB(priors=[0.5, 0.5])\n",
    "classifier.fit(X_train_scaled, y_train)\n",
    "\n",
    "y_pred_train = classifier.predict(X_train_scaled)\n",
    "y_pred_test = classifier.predict(X_test_scaled)\n",
    "\n",
    "print('Training-set accuracy score: {0:0.4f}'.format(accuracy_score(y_train, y_pred_train)))\n",
    "print('Test-set accuracy score: {0:0.4f}'.format(accuracy_score(y_test, y_pred_test)))\n",
    "print('Precision score: {0:0.4f}'.format(precision_score(y_test, y_pred_test)))\n",
    "print('Recall score: {0:0.4f}'.format(recall_score(y_test, y_pred_test)))"
   ]
  },
  {
   "cell_type": "markdown",
   "metadata": {
    "id": "82t6RQpGe3av"
   },
   "source": [
    "# Используем случайный лес"
   ]
  },
  {
   "cell_type": "markdown",
   "metadata": {},
   "source": [
    "# Random forest"
   ]
  },
  {
   "cell_type": "code",
   "execution_count": null,
   "metadata": {},
   "outputs": [
    {
     "name": "stdout",
     "output_type": "stream",
     "text": [
      "Fitting 5 folds for each of 27 candidates, totalling 135 fits\n"
     ]
    }
   ],
   "source": [
    "from sklearn.model_selection import GridSearchCV\n",
    "from sklearn.ensemble import RandomForestClassifier\n",
    "\n",
    "param_grid = {\n",
    "    'n_estimators': [50, 100, 200],\n",
    "    'max_depth': [5, 10, 20],\n",
    "    'min_samples_split': [50, 100, 200],\n",
    "    'max_features': ['sqrt'],\n",
    "    'class_weight': ['balanced'],\n",
    "}\n",
    "\n",
    "grid_search = GridSearchCV(\n",
    "    estimator=RandomForestClassifier(random_state=42),\n",
    "    param_grid=param_grid,\n",
    "    cv=5,\n",
    "    n_jobs=-1,\n",
    "    verbose=2,\n",
    ")\n",
    "\n",
    "grid_search.fit(X_train, y_train)\n",
    "print(f\"Лучшие параметры: {grid_search.best_params_}\")\n",
    "print(f\"Лучшая точность: {grid_search.best_score_:.3f}\")"
   ]
  },
  {
   "cell_type": "code",
   "execution_count": null,
   "metadata": {},
   "outputs": [],
   "source": [
    "best_rf = grid_search.best_estimator_\n",
    "y_pred = best_rf.predict(X_test)"
   ]
  },
  {
   "cell_type": "code",
   "execution_count": null,
   "metadata": {},
   "outputs": [],
   "source": [
    "from sklearn.metrics import classification_report, confusion_matrix\n",
    "\n",
    "print(classification_report(y_test, y_pred))\n",
    "print(\"\\nМатрица ошибок:\")\n",
    "print(confusion_matrix(y_test, y_pred))"
   ]
  }
 ],
 "metadata": {
  "colab": {
   "provenance": [],
   "toc_visible": true
  },
  "kernelspec": {
   "display_name": "Python 3 (ipykernel)",
   "language": "python",
   "name": "python3"
  },
  "language_info": {
   "codemirror_mode": {
    "name": "ipython",
    "version": 3
   },
   "file_extension": ".py",
   "mimetype": "text/x-python",
   "name": "python",
   "nbconvert_exporter": "python",
   "pygments_lexer": "ipython3",
   "version": "3.10.12"
  }
 },
 "nbformat": 4,
 "nbformat_minor": 4
}
